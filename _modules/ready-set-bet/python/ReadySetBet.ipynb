{
  "nbformat": 4,
  "nbformat_minor": 0,
  "metadata": {
    "colab": {
      "provenance": []
    },
    "kernelspec": {
      "name": "python3",
      "display_name": "Python 3"
    },
    "language_info": {
      "name": "python"
    }
  },
  "cells": [
    {
      "cell_type": "markdown",
      "source": [
        "In the game **Ready Set Bet**, there are $9$ horses.\n",
        "\n",
        "* Four blue horses, numbered $4$, $10$, $11/12$ and $2/3$.\n",
        "* Two orange horses, numbered $5$ and $9$\n",
        "* Two red horses, numbered $6$ and $8$\n",
        "* One black horse, numbered $7$\n",
        "\n",
        "Two dice are rolled, and for whatever total comes up the corresponding horse moves forward.\n",
        "This is repeated again and again, until a horse crosses the finish line.\n",
        "However, if the same horses number is rolled twice in a row, they get a **double bonus**, which moves a blue horse $+3$ steps, an orange horse $+2$ steps, a red horse $+1$ step, and the black horse $+0$ steps.\n",
        "\n",
        "The following code can be used to simulate many full races and analyze the results.  You can tweak the simulation by changing the length of the track, changing the initial positions of the horses, or changing the number of races you want simulated\n"
      ],
      "metadata": {
        "id": "dfHILJP5i63Q"
      }
    },
    {
      "cell_type": "code",
      "source": [
        "import random\n",
        "import numpy as np\n",
        "\n",
        "# tweakable simulation parameters:\n",
        "track_len = 15\n",
        "initial_pos = [0,0,0,0,0,0,0,0,0]\n",
        "num_races = 100000\n",
        "\n",
        "# helper arrays implementing the game\n",
        "dice2horse = [-1,-1,0,0,1,2,3,4,5,6,7,8,8] # dice total to horse\n",
        "bonus = [3,3,2,1,0,1,2,3,3]                # double-roll bonus\n",
        "horses = ['2/3','  4','  5','  6','  7','  8','  9',' 10','11/12']\n",
        "\n",
        "\n",
        "# arrays to record data\n",
        "win_cnt = [0]*9\n",
        "place_cnt = [0]*9\n",
        "show_cnt = [0]*9\n",
        "\n",
        "for k in range(num_races):\n",
        "  # initialize the positions of the horses\n",
        "  pos = initial_pos.copy()\n",
        "  old_dsum = 0\n",
        "  while(max(pos) < track_len):\n",
        "    # roll the dice\n",
        "    d1 = random.randint(1,6)\n",
        "    d2 = random.randint(1,6)\n",
        "    dsum = d1+d2\n",
        "    # move the corresponding horse\n",
        "    pos[dice2horse[dsum]] += 1\n",
        "    if(dsum == old_dsum):\n",
        "      pos[dice2horse[dsum]] += bonus[dice2horse[dsum]]\n",
        "    old_dsum = dsum\n",
        "  # get the winner\n",
        "  winner = np.argmax(pos)\n",
        "  win_cnt[winner] += 1\n",
        "  # get the top two\n",
        "  place_pos = sorted(pos)[-2]\n",
        "  for k in range(9):\n",
        "    if(pos[k] >= place_pos): place_cnt[k] += 1\n",
        "\n",
        "  # get the top three\n",
        "  show_pos = sorted(pos)[-3]\n",
        "  for k in range(9):\n",
        "    if(pos[k] >= show_pos): show_cnt[k] += 1\n",
        "\n",
        "  win_prob = np.array(win_cnt)/num_races\n",
        "  place_prob = np.array(place_cnt)/num_races\n",
        "  show_prob = np.array(show_cnt)/num_races\n",
        "\n",
        "\n",
        "\n",
        "print(\"Win / Place / Show  Probabilities:\")\n",
        "print(\"Horse:\", horses)\n",
        "print(\"Win:  \", end=\"  \")\n",
        "for k in range(9):\n",
        "  print(\"%.03f, \" % win_prob[k],end=\"\")\n",
        "print(\"\\nPlace:\", end=\"  \")\n",
        "for k in range(9):\n",
        "  print(\"%.03f, \" % place_prob[k],end=\"\")\n",
        "print(\"\\nShow: \", end=\"  \")\n",
        "for k in range(9):\n",
        "  print(\"%.03f, \" % show_prob[k],end=\"\")\n",
        "print(\"\")"
      ],
      "metadata": {
        "id": "moxfmBvIjZ1R"
      },
      "execution_count": null,
      "outputs": []
    },
    {
      "cell_type": "markdown",
      "source": [
        "Now that we have simulated a large number of races, we can approximate the probability of a particular horse winning by dividing the number of times they won the race by the total number of races we simulated.\n",
        "\n",
        "The output above gives the win, place, and show probabilities of every horse after the specified number of simulated races.\n",
        "When we plot this below, we get a familiar looking shape: a bell curve."
      ],
      "metadata": {
        "id": "LwNkVUPLtueT"
      }
    },
    {
      "cell_type": "code",
      "source": [
        "from matplotlib import pyplot as plt\n",
        "\n",
        "plt.bar(horses,win_prob)\n",
        "plt.title(\"Estimated win probability (sample size = %i)\" %num_races)\n",
        "plt.ylabel(\"Frequency\")\n",
        "plt.xlabel(\"Horse\")\n",
        "plt.show()\n",
        "\n"
      ],
      "metadata": {
        "id": "RfEAXDLyqFcM"
      },
      "execution_count": null,
      "outputs": []
    },
    {
      "cell_type": "code",
      "source": [
        "\n",
        "plt.bar(horses,place_prob)\n",
        "plt.title(\"Estimated place probability (sample size = %i)\" %num_races)\n",
        "plt.ylabel(\"Frequency\")\n",
        "plt.xlabel(\"Horse\")\n",
        "plt.show()\n",
        "\n"
      ],
      "metadata": {
        "id": "p7jAZApbqKMx"
      },
      "execution_count": null,
      "outputs": []
    },
    {
      "cell_type": "code",
      "source": [
        "plt.bar(horses,show_prob)\n",
        "plt.title(\"Estimated show probability (sample size = %i)\" %num_races)\n",
        "plt.ylabel(\"Frequency\")\n",
        "plt.xlabel(\"Horse\")\n",
        "plt.show()\n"
      ],
      "metadata": {
        "id": "QhdglZf1YY6V"
      },
      "execution_count": null,
      "outputs": []
    },
    {
      "cell_type": "code",
      "source": [],
      "metadata": {
        "id": "LXGEiaFrYZf3"
      },
      "execution_count": null,
      "outputs": []
    }
  ]
}